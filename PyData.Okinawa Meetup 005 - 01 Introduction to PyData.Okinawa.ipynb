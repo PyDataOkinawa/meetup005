{
 "cells": [
  {
   "cell_type": "markdown",
   "metadata": {
    "slideshow": {
     "slide_type": "skip"
    }
   },
   "source": [
    "# プレゼンテーションの始め方 ver.01\n",
    "\n",
    "[RISE](https://github.com/damianavila/RISE)をインストールして使う"
   ]
  },
  {
   "cell_type": "markdown",
   "metadata": {
    "slideshow": {
     "slide_type": "skip"
    }
   },
   "source": [
    "# プレゼンテーションの始め方 ver.02\n",
    "\n",
    "ターミナルに以下のコマンドをコピペ。\n",
    "\n",
    "```\n",
    "ipython nbconvert PyData.Okinawa\\ Meetup\\ 005\\ Introduction.ipynb --to slides --post serve --reveal-prefix \"http://cdn.jsdelivr.net/reveal.js/2.6.2\"\n",
    "```\n",
    "\n",
    "```.html``` のすぐ後に以下のコードをコピペ。\n",
    "\n",
    "```\n",
    "?theme=sky?transition=convex\n",
    "```"
   ]
  },
  {
   "cell_type": "markdown",
   "metadata": {
    "collapsed": true,
    "slideshow": {
     "slide_type": "slide"
    }
   },
   "source": [
    "# ようこそPyData.Okinawaへ\n",
    "\n",
    "- Twitter: @PyDataOkinawa (#PyDataOkinawa)\n",
    "- Connpass: http://pydataokinawa.connpass.com/ \n",
    "- HP: http://pydata.okinawa"
   ]
  },
  {
   "cell_type": "markdown",
   "metadata": {
    "slideshow": {
     "slide_type": "slide"
    }
   },
   "source": [
    "# 本日の予定\n",
    "\n",
    "\n",
    "| 時間 | 内容 |\tスピーカー |\n",
    "|:------|:------|:-------------|\n",
    "| 8:55\t| 開場 | |\n",
    "| 9:00-9:10 | PyData.Okinawaについて |\tオーガナイザー |\n",
    "| 9:10-9:20 | 自己紹介 | 全員 |\n",
    "| 9:20-9:30 | やり方の説明 | Makoto Otsuka |\n",
    "| 9:30-11:30 | 復習ミニハッカソン | 全員 （ペアプログラミング）|\n",
    "| 11:30-11:50 | 発表 | 全員 |\n",
    "| 11:50-12:00 | 次回勉強会について | 全員 |"
   ]
  },
  {
   "cell_type": "markdown",
   "metadata": {
    "slideshow": {
     "slide_type": "slide"
    }
   },
   "source": [
    "# PyData.Okinawaとは？\n",
    "\n",
    "\n",
    "<div align=\"center\">\n",
    "<img src=surfing1.jpg width=700>\n",
    "Creative Commons BY 2.0:<br/>\n",
    "https://www.happytellus.com/gallery.php?img_id=2668\n",
    "</div>"
   ]
  },
  {
   "cell_type": "markdown",
   "metadata": {
    "slideshow": {
     "slide_type": "slide"
    }
   },
   "source": [
    "# PyData.Okinawaとは？\n",
    "\n",
    "<div align=\"center\">\n",
    "<img src=surfing2.jpg width=700>\n",
    "Creative Commons BY 2.0<br/>http://free-photo.net/archive/entry5175.html\n",
    "<div>"
   ]
  },
  {
   "cell_type": "markdown",
   "metadata": {
    "collapsed": true,
    "slideshow": {
     "slide_type": "slide"
    }
   },
   "source": [
    "# PyData.Okinawaとは?"
   ]
  },
  {
   "cell_type": "markdown",
   "metadata": {
    "slideshow": {
     "slide_type": "fragment"
    }
   },
   "source": [
    "- PyData.Okinawa は Python + Data に興味のある方が交流できる沖縄を拠点にしたコミュニティです。"
   ]
  },
  {
   "cell_type": "markdown",
   "metadata": {
    "slideshow": {
     "slide_type": "fragment"
    }
   },
   "source": [
    "- **データから新しい価値を生み出したいという想い**があれば、どのようなバックグラウンドを持った方でも自由に参加できるオープンなコミュニティです。"
   ]
  },
  {
   "cell_type": "markdown",
   "metadata": {
    "slideshow": {
     "slide_type": "fragment"
    }
   },
   "source": [
    "- 沖縄で定期的に開催される勉強会では**Pythonをメインな言語として使いますが**、機械学習やデータアナリティクスに興味を持つ方であれば**どのような言語を使うプログラマの方でも参加可能**です。"
   ]
  },
  {
   "cell_type": "markdown",
   "metadata": {
    "collapsed": true,
    "slideshow": {
     "slide_type": "slide"
    }
   },
   "source": [
    "# PyData.Okinawaとは?"
   ]
  },
  {
   "cell_type": "markdown",
   "metadata": {
    "slideshow": {
     "slide_type": "fragment"
    }
   },
   "source": [
    "- またハードルは高いかもしれませんが、これからPythonプログラミングを覚えたい初心者の方も大歓迎です。"
   ]
  },
  {
   "cell_type": "markdown",
   "metadata": {
    "slideshow": {
     "slide_type": "fragment"
    }
   },
   "source": [
    "- **沖縄県外のコミュニティとも積極的に交流**しながら、<u>次の世代をインスパイアするような</u>**新しい価値**を生み出していくことが**PyData.Okinawaの成功の姿**です。"
   ]
  },
  {
   "cell_type": "markdown",
   "metadata": {
    "slideshow": {
     "slide_type": "fragment"
    }
   },
   "source": [
    "<div align=\"center\"><b>\"データから始まる新しい価値を創造するコミュニティ\"</b></div>"
   ]
  },
  {
   "cell_type": "markdown",
   "metadata": {
    "slideshow": {
     "slide_type": "slide"
    }
   },
   "source": [
    "# PyData.Tokyoとは？\n",
    "\n",
    "**Python + Data を通じて Pythonistaと データ分析者が交流するコミュニティ**\n",
    "\n",
    "2014年09月に行われたPyConJP 2014での出逢いをきっかけに、PyData.Tokyoは生まれました。\n",
    "\n",
    "PyConJP 2014では、データ分析や機械学習関連の発表に非常に大きな関心が寄せられました。一方で、データの分析・可視化をするために必要な知識や技術について、深く議論できるコミュニティやカンファレンスがあればいいのに、という声も耳にしました。そんな想いに応えるべく誕生したのが、PyData.Tokyoです。\n",
    "\n",
    "PyData.Tokyoは、多様な分野で活躍しているPythonistaとデータ分析者がバランスよく交流できる、Python + Dataをテーマにしたコミュニティです。\n",
    "\n",
    "- [PyData.Tokyo Official HP](https://pydata.tokyo/)\n",
    "- [PyData.Tokyo@connpass](http://pydatatokyo.connpass.com/)"
   ]
  },
  {
   "cell_type": "markdown",
   "metadata": {
    "slideshow": {
     "slide_type": "slide"
    }
   },
   "source": [
    "# なぜPyData.Okinawaなのか?\n",
    "\n",
    "- データはこれからどんどん増えていく（IoT、医療、ソーシャルネットワーク、オープンデータ等）（[link](http://jp.techcrunch.com/2015/05/29/20150528free-dollars-and-fifty-free-cents/)）\n",
    "- そのデータから価値を引き出せると面白い（次の世代をインスパイアする新しい価値の創造）\n",
    "- 人とのつながりによる新しい情報や価値観との出会い\n",
    "- PyData.Okinawaは実験的な場\n",
    "- 沖縄県外のコミュニティとの協力体制（PyData.Tokyoなど）\n",
    "- 楽しくなくなったらやめる"
   ]
  },
  {
   "cell_type": "markdown",
   "metadata": {
    "slideshow": {
     "slide_type": "slide"
    }
   },
   "source": [
    "# PyData.Okinawa News"
   ]
  },
  {
   "cell_type": "markdown",
   "metadata": {
    "slideshow": {
     "slide_type": "slide"
    }
   },
   "source": [
    "# いい本でました！\n",
    "\n",
    "- [データサイエンティスト養成読本 機械学習入門編 (Software Design plus)](http://gihyo.jp/book/2015/978-4-7741-7631-4)"
   ]
  },
  {
   "cell_type": "markdown",
   "metadata": {
    "slideshow": {
     "slide_type": "slide"
    }
   },
   "source": [
    "# PyCon JP 2015\n",
    "\n",
    "- [オフィシャルホームページ](https://pycon.jp/2015/ja/)"
   ]
  },
  {
   "cell_type": "markdown",
   "metadata": {
    "slideshow": {
     "slide_type": "slide"
    }
   },
   "source": [
    "# PyCon Mini Sapporo\n",
    "\n",
    "- PyData.OkinawaのことをPyCon Mini Sapporoで紹介していただいたようです。PyData.Tokyoの田中さん、ありがとうございます〜。\n"
   ]
  },
  {
   "cell_type": "markdown",
   "metadata": {
    "slideshow": {
     "slide_type": "slide"
    }
   },
   "source": [
    "# DLSS 2015 Montreal の参加報告会\n",
    "\n",
    "- [「ディープラーニングの世界最先端を探る〜Deep Learning Summer School2015 参加報告」](http://peatix.com/event/114046)　2015/09/15（火）\n",
    "\n",
    "- [Deep Learning Summer School 2015 @ Montreal （8月3日〜8月12日）](https://sites.google.com/site/deeplearningsummerschool/)の参加報告会を東京でしてきました\n",
    "- [DLSS 2015 全レクチャーのスライド](https://sites.google.com/site/deeplearningsummerschool/schedule)\n",
    "- [DLSS 2015 全レクチャーのビデオ](http://videolectures.net/deeplearning2015_montreal/) ←今朝、公開されたばかり"
   ]
  },
  {
   "cell_type": "markdown",
   "metadata": {
    "slideshow": {
     "slide_type": "slide"
    }
   },
   "source": [
    "## NatureのScientific Reportsに論文でました\n",
    "### 超私事でスミマセンです... /(-_-;)\n",
    "\n",
    "- [Seven neurons memorizing sequences of alphabetical images via spike-timing dependent plasticity](http://www.nature.com/articles/srep14149)\n",
    "- [IBM Press Release](http://www-06.ibm.com/jp/press/2015/09/1601.html)\n",
    "- [日経コンピュータ](http://itpro.nikkeibp.co.jp/atcl/news/15/091703009/)\n",
    "- [@IT](http://www.atmarkit.co.jp/ait/articles/1509/17/news158.html)\n"
   ]
  },
  {
   "cell_type": "markdown",
   "metadata": {
    "slideshow": {
     "slide_type": "slide"
    }
   },
   "source": [
    "# PyData.Okinawaの決まりごと\n",
    "\n",
    "## 日時 \n",
    "\n",
    "* 定期開催（毎月第３土曜日 9:00-12:00）\n",
    "\n",
    "## 参加費用\n",
    "\n",
    "- 1500円\n",
    "- 会場費 & 県外のコミュニティから人を呼んだりするため\n",
    "- 飲み代ではない\n",
    "- オーガナイザーも出す\n",
    "\n",
    "## その他\n",
    "\n",
    "- 楽しく、クリエイティブに"
   ]
  },
  {
   "cell_type": "markdown",
   "metadata": {
    "slideshow": {
     "slide_type": "slide"
    }
   },
   "source": [
    "# 自己紹介（ひとり1分ぐらい）\n",
    "\n",
    "* 名前\n",
    "* プロフィール（仕事・肩書きなど）\n",
    "* 参加の動機"
   ]
  },
  {
   "cell_type": "markdown",
   "metadata": {
    "slideshow": {
     "slide_type": "slide"
    }
   },
   "source": [
    "# 前回までのおさらい\n",
    "\n",
    "- [PyData.Okinawa Meetup #1 - PyData事始め](http://pydataokinawa.connpass.com/event/15567/)\n",
    "- [PyData.Okinawa Meetup #2 - データ可視化](http://pydataokinawa.connpass.com/event/16388/)\n",
    "- [PyData.Okinawa Meetup #3 - scikit-learn入門](http://pydataokinawa.connpass.com/event/17652/)\n",
    "- [PyData.Okinawa Meetup #4 - モデル選択](http://pydataokinawa.connpass.com/event/18396/)"
   ]
  },
  {
   "cell_type": "markdown",
   "metadata": {
    "slideshow": {
     "slide_type": "slide"
    }
   },
   "source": [
    "# 復習ミニハッカソン"
   ]
  },
  {
   "cell_type": "markdown",
   "metadata": {
    "slideshow": {
     "slide_type": "fragment"
    }
   },
   "source": [
    "##  目的\n",
    "\n",
    "- 今まで習ったことを使って遊んでみる。"
   ]
  },
  {
   "cell_type": "markdown",
   "metadata": {
    "slideshow": {
     "slide_type": "fragment"
    }
   },
   "source": [
    "## ルール\n",
    "\n",
    "- 可視化をする\n",
    "- 機械学習をする\n",
    "- モデル選択をする"
   ]
  },
  {
   "cell_type": "markdown",
   "metadata": {
    "slideshow": {
     "slide_type": "slide"
    }
   },
   "source": [
    "# 復習ミニハッカソン"
   ]
  },
  {
   "cell_type": "markdown",
   "metadata": {
    "collapsed": true,
    "slideshow": {
     "slide_type": "fragment"
    }
   },
   "source": [
    "## データ（小）\n",
    "\n",
    "- [Abalone Data Set @ UCI](http://archive.ics.uci.edu/ml/datasets/Abalone)"
   ]
  },
  {
   "cell_type": "markdown",
   "metadata": {
    "slideshow": {
     "slide_type": "fragment"
    }
   },
   "source": [
    "## データ（大）\n",
    "\n",
    "- [How much did it rain @ Kaggle](https://www.kaggle.com/c/how-much-did-it-rain-ii)"
   ]
  },
  {
   "cell_type": "markdown",
   "metadata": {
    "slideshow": {
     "slide_type": "slide"
    }
   },
   "source": [
    "## 参照\n",
    "\n",
    "- http://scikit-learn.org/stable/modules/classes.html#reference"
   ]
  }
 ],
 "metadata": {
  "celltoolbar": "Slideshow",
  "kernelspec": {
   "display_name": "Python 2",
   "language": "python",
   "name": "python2"
  },
  "language_info": {
   "codemirror_mode": {
    "name": "ipython",
    "version": 2
   },
   "file_extension": ".py",
   "mimetype": "text/x-python",
   "name": "python",
   "nbconvert_exporter": "python",
   "pygments_lexer": "ipython2",
   "version": "2.7.10"
  }
 },
 "nbformat": 4,
 "nbformat_minor": 0
}
